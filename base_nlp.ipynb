{
  "nbformat": 4,
  "nbformat_minor": 0,
  "metadata": {
    "colab": {
      "provenance": [],
      "authorship_tag": "ABX9TyNEIlPr1xtsQtoCDGuxzp0Y",
      "include_colab_link": true
    },
    "kernelspec": {
      "name": "python3",
      "display_name": "Python 3"
    },
    "language_info": {
      "name": "python"
    }
  },
  "cells": [
    {
      "cell_type": "markdown",
      "metadata": {
        "id": "view-in-github",
        "colab_type": "text"
      },
      "source": [
        "<a href=\"https://colab.research.google.com/github/simaryadav/learning_roadmap/blob/main/base_nlp.ipynb\" target=\"_parent\"><img src=\"https://colab.research.google.com/assets/colab-badge.svg\" alt=\"Open In Colab\"/></a>"
      ]
    },
    {
      "cell_type": "code",
      "execution_count": null,
      "metadata": {
        "colab": {
          "base_uri": "https://localhost:8080/"
        },
        "id": "bX4wPaamQmOk",
        "outputId": "a5310909-d9b0-4008-8e45-cc6b8c1453d3"
      },
      "outputs": [
        {
          "output_type": "stream",
          "name": "stdout",
          "text": [
            "Requirement already satisfied: nltk in /usr/local/lib/python3.10/dist-packages (3.8.1)\n",
            "Requirement already satisfied: click in /usr/local/lib/python3.10/dist-packages (from nltk) (8.1.7)\n",
            "Requirement already satisfied: joblib in /usr/local/lib/python3.10/dist-packages (from nltk) (1.4.2)\n",
            "Requirement already satisfied: regex>=2021.8.3 in /usr/local/lib/python3.10/dist-packages (from nltk) (2024.5.15)\n",
            "Requirement already satisfied: tqdm in /usr/local/lib/python3.10/dist-packages (from nltk) (4.66.5)\n"
          ]
        }
      ],
      "source": [
        "!pip install nltk"
      ]
    },
    {
      "cell_type": "code",
      "source": [
        "para = \"\"\"\n",
        "Escanor「エスカノール」 is the Lion's Sin of Pride「傲慢の罪ライオン・シン, Raion Shin」 of the Seven Deadly Sins, the former second prince of the Kingdom of Castellio, and the man known throughout the Kingdom of Liones as \"The Strongest Holy Knight\". His Sacred Treasure is the Divine Axe, Rhitta, and his inherent power is called Sunshine, which made him renowned for gaining immense power during the day, and gradually becoming weaker with the setting of the sun, leaving him frail and submissive at night.\n",
        "\"\"\""
      ],
      "metadata": {
        "id": "zilyW0vuQoCx"
      },
      "execution_count": null,
      "outputs": []
    },
    {
      "cell_type": "code",
      "source": [
        "import nltk\n",
        "from nltk.stem import PorterStemmer\n",
        "from nltk.corpus import stopwords"
      ],
      "metadata": {
        "id": "ZlQV3SgrRSrD"
      },
      "execution_count": null,
      "outputs": []
    },
    {
      "cell_type": "code",
      "source": [
        "nltk.download('punkt')\n",
        "sentence = nltk.sent_tokenize(para)"
      ],
      "metadata": {
        "colab": {
          "base_uri": "https://localhost:8080/"
        },
        "id": "xLRb0qYGRXLi",
        "outputId": "8ad853be-c675-462e-d51c-1de534b2eaac"
      },
      "execution_count": null,
      "outputs": [
        {
          "output_type": "stream",
          "name": "stderr",
          "text": [
            "[nltk_data] Downloading package punkt to /root/nltk_data...\n",
            "[nltk_data]   Unzipping tokenizers/punkt.zip.\n"
          ]
        }
      ]
    },
    {
      "cell_type": "code",
      "source": [
        "print(sentence)"
      ],
      "metadata": {
        "colab": {
          "base_uri": "https://localhost:8080/"
        },
        "id": "_at8fn90RuPP",
        "outputId": "3f1dde04-beb6-414f-c8da-78bc8837f949"
      },
      "execution_count": null,
      "outputs": [
        {
          "output_type": "stream",
          "name": "stdout",
          "text": [
            "['\\nEscanor「エスカノール」 is the Lion\\'s Sin of Pride「傲慢の罪ライオン・シン, Raion Shin」 of the Seven Deadly Sins, the former second prince of the Kingdom of Castellio, and the man known throughout the Kingdom of Liones as \"The Strongest Holy Knight\".', 'His Sacred Treasure is the Divine Axe, Rhitta, and his inherent power is called Sunshine, which made him renowned for gaining immense power during the day, and gradually becoming weaker with the setting of the sun, leaving him frail and submissive at night.']\n"
          ]
        }
      ]
    },
    {
      "cell_type": "code",
      "source": [
        "stemmer = PorterStemmer()"
      ],
      "metadata": {
        "id": "UFgVYSArR3DL"
      },
      "execution_count": null,
      "outputs": []
    },
    {
      "cell_type": "code",
      "source": [
        "from nltk.stem import WordNetLemmatizer"
      ],
      "metadata": {
        "id": "l-J2T8xpSJYU"
      },
      "execution_count": null,
      "outputs": []
    },
    {
      "cell_type": "code",
      "source": [
        "lemma = WordNetLemmatizer()"
      ],
      "metadata": {
        "id": "bFJGNkQjSbXJ"
      },
      "execution_count": null,
      "outputs": []
    },
    {
      "cell_type": "code",
      "source": [
        "len(sentence)"
      ],
      "metadata": {
        "colab": {
          "base_uri": "https://localhost:8080/"
        },
        "id": "-xQ4qbzOSjVn",
        "outputId": "0712c08a-846d-4581-efdb-26265bbed719"
      },
      "execution_count": null,
      "outputs": [
        {
          "output_type": "execute_result",
          "data": {
            "text/plain": [
              "2"
            ]
          },
          "metadata": {},
          "execution_count": 9
        }
      ]
    },
    {
      "cell_type": "code",
      "source": [
        "import re"
      ],
      "metadata": {
        "id": "vxNkTpyESnTz"
      },
      "execution_count": null,
      "outputs": []
    },
    {
      "cell_type": "code",
      "source": [
        "corpus = []\n",
        "for i in range(len(sentence)):\n",
        "  review = re.sub('[^a-zA-Z]',' ', sentence[i])\n",
        "  review = review.lower()\n",
        "  corpus.append(review)"
      ],
      "metadata": {
        "id": "JTGsmF5re0gN"
      },
      "execution_count": null,
      "outputs": []
    },
    {
      "cell_type": "code",
      "source": [
        "corpus"
      ],
      "metadata": {
        "colab": {
          "base_uri": "https://localhost:8080/"
        },
        "id": "cB8iu6oVe0c3",
        "outputId": "d246db83-449e-4f05-e255-175cb673fde6"
      },
      "execution_count": null,
      "outputs": [
        {
          "output_type": "execute_result",
          "data": {
            "text/plain": [
              "[' escanor         is the lion s sin of pride              raion shin  of the seven deadly sins  the former second prince of the kingdom of castellio  and the man known throughout the kingdom of liones as  the strongest holy knight  ',\n",
              " 'his sacred treasure is the divine axe  rhitta  and his inherent power is called sunshine  which made him renowned for gaining immense power during the day  and gradually becoming weaker with the setting of the sun  leaving him frail and submissive at night ']"
            ]
          },
          "metadata": {},
          "execution_count": 12
        }
      ]
    },
    {
      "cell_type": "code",
      "source": [
        "nltk.download('stopwords')"
      ],
      "metadata": {
        "colab": {
          "base_uri": "https://localhost:8080/"
        },
        "id": "Gx9fXGsTncTP",
        "outputId": "115e411b-f5c5-4b8c-b447-afd90a7f9a63"
      },
      "execution_count": null,
      "outputs": [
        {
          "output_type": "stream",
          "name": "stderr",
          "text": [
            "[nltk_data] Downloading package stopwords to /root/nltk_data...\n",
            "[nltk_data]   Unzipping corpora/stopwords.zip.\n"
          ]
        },
        {
          "output_type": "execute_result",
          "data": {
            "text/plain": [
              "True"
            ]
          },
          "metadata": {},
          "execution_count": 13
        }
      ]
    },
    {
      "cell_type": "code",
      "source": [
        "for i in corpus:\n",
        "  words = nltk.word_tokenize(i)\n",
        "  for word in words:\n",
        "    if word not in set(stopwords.words(\"english\")):\n",
        "      print(stemmer.stem(word))"
      ],
      "metadata": {
        "colab": {
          "base_uri": "https://localhost:8080/"
        },
        "id": "78hOYwQ-e0Zr",
        "outputId": "1cc91284-a500-4b82-b922-3ec6fce29b1e"
      },
      "execution_count": null,
      "outputs": [
        {
          "output_type": "stream",
          "name": "stdout",
          "text": [
            "escanor\n",
            "lion\n",
            "sin\n",
            "pride\n",
            "raion\n",
            "shin\n",
            "seven\n",
            "deadli\n",
            "sin\n",
            "former\n",
            "second\n",
            "princ\n",
            "kingdom\n",
            "castellio\n",
            "man\n",
            "known\n",
            "throughout\n",
            "kingdom\n",
            "lion\n",
            "strongest\n",
            "holi\n",
            "knight\n",
            "sacr\n",
            "treasur\n",
            "divin\n",
            "axe\n",
            "rhitta\n",
            "inher\n",
            "power\n",
            "call\n",
            "sunshin\n",
            "made\n",
            "renown\n",
            "gain\n",
            "immens\n",
            "power\n",
            "day\n",
            "gradual\n",
            "becom\n",
            "weaker\n",
            "set\n",
            "sun\n",
            "leav\n",
            "frail\n",
            "submiss\n",
            "night\n"
          ]
        }
      ]
    },
    {
      "cell_type": "code",
      "source": [
        "# prompt: make it work\n",
        "\n",
        "nltk.download('wordnet')\n",
        "for i in corpus:\n",
        "  words = nltk.word_tokenize(i)\n",
        "  for word in words:\n",
        "    if word not in set(stopwords.words(\"english\")):\n",
        "      print(lemma.lemmatize(word))"
      ],
      "metadata": {
        "colab": {
          "base_uri": "https://localhost:8080/"
        },
        "id": "tSTnIAGpe0QA",
        "outputId": "5db78d81-0f9b-4ca6-f9f1-95c8b01cdedc"
      },
      "execution_count": null,
      "outputs": [
        {
          "output_type": "stream",
          "name": "stderr",
          "text": [
            "[nltk_data] Downloading package wordnet to /root/nltk_data...\n"
          ]
        },
        {
          "output_type": "stream",
          "name": "stdout",
          "text": [
            "escanor\n",
            "lion\n",
            "sin\n",
            "pride\n",
            "raion\n",
            "shin\n",
            "seven\n",
            "deadly\n",
            "sin\n",
            "former\n",
            "second\n",
            "prince\n",
            "kingdom\n",
            "castellio\n",
            "man\n",
            "known\n",
            "throughout\n",
            "kingdom\n",
            "liones\n",
            "strongest\n",
            "holy\n",
            "knight\n",
            "sacred\n",
            "treasure\n",
            "divine\n",
            "axe\n",
            "rhitta\n",
            "inherent\n",
            "power\n",
            "called\n",
            "sunshine\n",
            "made\n",
            "renowned\n",
            "gaining\n",
            "immense\n",
            "power\n",
            "day\n",
            "gradually\n",
            "becoming\n",
            "weaker\n",
            "setting\n",
            "sun\n",
            "leaving\n",
            "frail\n",
            "submissive\n",
            "night\n"
          ]
        }
      ]
    },
    {
      "cell_type": "code",
      "source": [
        "# prompt: import sklearn and count vectorizer\n",
        "from sklearn.feature_extraction.text import CountVectorizer\n",
        "cv = CountVectorizer()"
      ],
      "metadata": {
        "id": "GkSMmINne0Mq"
      },
      "execution_count": null,
      "outputs": []
    },
    {
      "cell_type": "code",
      "source": [
        "X = cv.fit_transform(corpus)"
      ],
      "metadata": {
        "id": "NaEsF2wZe0Jj"
      },
      "execution_count": null,
      "outputs": []
    },
    {
      "cell_type": "code",
      "source": [
        "cv.vocabulary_"
      ],
      "metadata": {
        "colab": {
          "base_uri": "https://localhost:8080/"
        },
        "id": "K1j9famAez3w",
        "outputId": "1d94fcfe-20be-45c0-d24e-d3b8b5ff984a"
      },
      "execution_count": null,
      "outputs": [
        {
          "output_type": "execute_result",
          "data": {
            "text/plain": [
              "{'escanor': 11,\n",
              " 'is': 22,\n",
              " 'the': 50,\n",
              " 'lion': 27,\n",
              " 'sin': 44,\n",
              " 'of': 32,\n",
              " 'pride': 34,\n",
              " 'raion': 36,\n",
              " 'shin': 43,\n",
              " 'seven': 42,\n",
              " 'deadly': 8,\n",
              " 'sins': 45,\n",
              " 'former': 13,\n",
              " 'second': 40,\n",
              " 'prince': 35,\n",
              " 'kingdom': 23,\n",
              " 'castellio': 6,\n",
              " 'and': 0,\n",
              " 'man': 30,\n",
              " 'known': 25,\n",
              " 'throughout': 51,\n",
              " 'liones': 28,\n",
              " 'as': 1,\n",
              " 'strongest': 46,\n",
              " 'holy': 19,\n",
              " 'knight': 24,\n",
              " 'his': 18,\n",
              " 'sacred': 39,\n",
              " 'treasure': 52,\n",
              " 'divine': 9,\n",
              " 'axe': 3,\n",
              " 'rhitta': 38,\n",
              " 'inherent': 21,\n",
              " 'power': 33,\n",
              " 'called': 5,\n",
              " 'sunshine': 49,\n",
              " 'which': 54,\n",
              " 'made': 29,\n",
              " 'him': 17,\n",
              " 'renowned': 37,\n",
              " 'for': 12,\n",
              " 'gaining': 15,\n",
              " 'immense': 20,\n",
              " 'during': 10,\n",
              " 'day': 7,\n",
              " 'gradually': 16,\n",
              " 'becoming': 4,\n",
              " 'weaker': 53,\n",
              " 'with': 55,\n",
              " 'setting': 41,\n",
              " 'sun': 48,\n",
              " 'leaving': 26,\n",
              " 'frail': 14,\n",
              " 'submissive': 47,\n",
              " 'at': 2,\n",
              " 'night': 31}"
            ]
          },
          "metadata": {},
          "execution_count": 18
        }
      ]
    },
    {
      "cell_type": "code",
      "source": [
        "from sklearn.feature_extraction.text import CountVectorizer\n",
        "cv = CountVectorizer(ngram_range=(2,3))"
      ],
      "metadata": {
        "id": "8IYWcn6Dez1G"
      },
      "execution_count": null,
      "outputs": []
    },
    {
      "cell_type": "code",
      "source": [
        "X = cv.fit_transform(corpus)"
      ],
      "metadata": {
        "id": "dY9Q5SyvezyJ"
      },
      "execution_count": null,
      "outputs": []
    },
    {
      "cell_type": "code",
      "source": [
        "cv.vocabulary_"
      ],
      "metadata": {
        "colab": {
          "base_uri": "https://localhost:8080/"
        },
        "id": "Sp0-iIagezvO",
        "outputId": "a2b17e6f-7e39-478c-9255-72b9052d6a7e"
      },
      "execution_count": null,
      "outputs": [
        {
          "output_type": "execute_result",
          "data": {
            "text/plain": [
              "{'escanor is': 27,\n",
              " 'is the': 54,\n",
              " 'the lion': 126,\n",
              " 'lion sin': 64,\n",
              " 'sin of': 106,\n",
              " 'of pride': 76,\n",
              " 'pride raion': 86,\n",
              " 'raion shin': 90,\n",
              " 'shin of': 104,\n",
              " 'of the': 78,\n",
              " 'the seven': 132,\n",
              " 'seven deadly': 102,\n",
              " 'deadly sins': 21,\n",
              " 'sins the': 108,\n",
              " 'the former': 122,\n",
              " 'former second': 31,\n",
              " 'second prince': 98,\n",
              " 'prince of': 88,\n",
              " 'the kingdom': 124,\n",
              " 'kingdom of': 57,\n",
              " 'of castellio': 72,\n",
              " 'castellio and': 17,\n",
              " 'and the': 6,\n",
              " 'the man': 128,\n",
              " 'man known': 70,\n",
              " 'known throughout': 60,\n",
              " 'throughout the': 138,\n",
              " 'of liones': 74,\n",
              " 'liones as': 66,\n",
              " 'as the': 8,\n",
              " 'the strongest': 134,\n",
              " 'strongest holy': 110,\n",
              " 'holy knight': 47,\n",
              " 'escanor is the': 28,\n",
              " 'is the lion': 56,\n",
              " 'the lion sin': 127,\n",
              " 'lion sin of': 65,\n",
              " 'sin of pride': 107,\n",
              " 'of pride raion': 77,\n",
              " 'pride raion shin': 87,\n",
              " 'raion shin of': 91,\n",
              " 'shin of the': 105,\n",
              " 'of the seven': 80,\n",
              " 'the seven deadly': 133,\n",
              " 'seven deadly sins': 103,\n",
              " 'deadly sins the': 22,\n",
              " 'sins the former': 109,\n",
              " 'the former second': 123,\n",
              " 'former second prince': 32,\n",
              " 'second prince of': 99,\n",
              " 'prince of the': 89,\n",
              " 'of the kingdom': 79,\n",
              " 'the kingdom of': 125,\n",
              " 'kingdom of castellio': 58,\n",
              " 'of castellio and': 73,\n",
              " 'castellio and the': 18,\n",
              " 'and the man': 7,\n",
              " 'the man known': 129,\n",
              " 'man known throughout': 71,\n",
              " 'known throughout the': 61,\n",
              " 'throughout the kingdom': 139,\n",
              " 'kingdom of liones': 59,\n",
              " 'of liones as': 75,\n",
              " 'liones as the': 67,\n",
              " 'as the strongest': 9,\n",
              " 'the strongest holy': 135,\n",
              " 'strongest holy knight': 111,\n",
              " 'his sacred': 45,\n",
              " 'sacred treasure': 96,\n",
              " 'treasure is': 140,\n",
              " 'the divine': 120,\n",
              " 'divine axe': 23,\n",
              " 'axe rhitta': 11,\n",
              " 'rhitta and': 94,\n",
              " 'and his': 2,\n",
              " 'his inherent': 43,\n",
              " 'inherent power': 50,\n",
              " 'power is': 84,\n",
              " 'is called': 52,\n",
              " 'called sunshine': 15,\n",
              " 'sunshine which': 116,\n",
              " 'which made': 144,\n",
              " 'made him': 68,\n",
              " 'him renowned': 41,\n",
              " 'renowned for': 92,\n",
              " 'for gaining': 29,\n",
              " 'gaining immense': 35,\n",
              " 'immense power': 48,\n",
              " 'power during': 82,\n",
              " 'during the': 25,\n",
              " 'the day': 118,\n",
              " 'day and': 19,\n",
              " 'and gradually': 0,\n",
              " 'gradually becoming': 37,\n",
              " 'becoming weaker': 13,\n",
              " 'weaker with': 142,\n",
              " 'with the': 146,\n",
              " 'the setting': 130,\n",
              " 'setting of': 100,\n",
              " 'the sun': 136,\n",
              " 'sun leaving': 114,\n",
              " 'leaving him': 62,\n",
              " 'him frail': 39,\n",
              " 'frail and': 33,\n",
              " 'and submissive': 4,\n",
              " 'submissive at': 112,\n",
              " 'at night': 10,\n",
              " 'his sacred treasure': 46,\n",
              " 'sacred treasure is': 97,\n",
              " 'treasure is the': 141,\n",
              " 'is the divine': 55,\n",
              " 'the divine axe': 121,\n",
              " 'divine axe rhitta': 24,\n",
              " 'axe rhitta and': 12,\n",
              " 'rhitta and his': 95,\n",
              " 'and his inherent': 3,\n",
              " 'his inherent power': 44,\n",
              " 'inherent power is': 51,\n",
              " 'power is called': 85,\n",
              " 'is called sunshine': 53,\n",
              " 'called sunshine which': 16,\n",
              " 'sunshine which made': 117,\n",
              " 'which made him': 145,\n",
              " 'made him renowned': 69,\n",
              " 'him renowned for': 42,\n",
              " 'renowned for gaining': 93,\n",
              " 'for gaining immense': 30,\n",
              " 'gaining immense power': 36,\n",
              " 'immense power during': 49,\n",
              " 'power during the': 83,\n",
              " 'during the day': 26,\n",
              " 'the day and': 119,\n",
              " 'day and gradually': 20,\n",
              " 'and gradually becoming': 1,\n",
              " 'gradually becoming weaker': 38,\n",
              " 'becoming weaker with': 14,\n",
              " 'weaker with the': 143,\n",
              " 'with the setting': 147,\n",
              " 'the setting of': 131,\n",
              " 'setting of the': 101,\n",
              " 'of the sun': 81,\n",
              " 'the sun leaving': 137,\n",
              " 'sun leaving him': 115,\n",
              " 'leaving him frail': 63,\n",
              " 'him frail and': 40,\n",
              " 'frail and submissive': 34,\n",
              " 'and submissive at': 5,\n",
              " 'submissive at night': 113}"
            ]
          },
          "metadata": {},
          "execution_count": 25
        }
      ]
    },
    {
      "cell_type": "code",
      "source": [
        "## TF-IDF\n",
        "from sklearn.feature_extraction.text import TfidfVectorizer\n",
        "cv = TfidfVectorizer()\n",
        "x = cv.fit_transform(corpus)"
      ],
      "metadata": {
        "id": "Cpo3sxJCezsB"
      },
      "execution_count": null,
      "outputs": []
    },
    {
      "cell_type": "code",
      "source": [
        "corpus[0]"
      ],
      "metadata": {
        "colab": {
          "base_uri": "https://localhost:8080/",
          "height": 53
        },
        "id": "61J7DxFpezo8",
        "outputId": "f0dccaae-bc20-4a00-e754-1d4acebdee7b"
      },
      "execution_count": null,
      "outputs": [
        {
          "output_type": "execute_result",
          "data": {
            "text/plain": [
              "' escanor         is the lion s sin of pride              raion shin  of the seven deadly sins  the former second prince of the kingdom of castellio  and the man known throughout the kingdom of liones as  the strongest holy knight  '"
            ],
            "application/vnd.google.colaboratory.intrinsic+json": {
              "type": "string"
            }
          },
          "metadata": {},
          "execution_count": 27
        }
      ]
    },
    {
      "cell_type": "code",
      "source": [
        "x.toarray()[0]"
      ],
      "metadata": {
        "colab": {
          "base_uri": "https://localhost:8080/"
        },
        "id": "tdv16x9Eezlw",
        "outputId": "a94ddbc3-936a-496e-ce47-69c3c701f827"
      },
      "execution_count": null,
      "outputs": [
        {
          "output_type": "execute_result",
          "data": {
            "text/plain": [
              "array([0.0893059 , 0.12551632, 0.        , 0.        , 0.        ,\n",
              "       0.        , 0.12551632, 0.        , 0.12551632, 0.        ,\n",
              "       0.        , 0.12551632, 0.        , 0.12551632, 0.        ,\n",
              "       0.        , 0.        , 0.        , 0.        , 0.12551632,\n",
              "       0.        , 0.        , 0.0893059 , 0.25103265, 0.12551632,\n",
              "       0.12551632, 0.        , 0.12551632, 0.12551632, 0.        ,\n",
              "       0.12551632, 0.        , 0.44652949, 0.        , 0.12551632,\n",
              "       0.12551632, 0.12551632, 0.        , 0.        , 0.        ,\n",
              "       0.12551632, 0.        , 0.12551632, 0.12551632, 0.12551632,\n",
              "       0.12551632, 0.12551632, 0.        , 0.        , 0.        ,\n",
              "       0.62514129, 0.12551632, 0.        , 0.        , 0.        ,\n",
              "       0.        ])"
            ]
          },
          "metadata": {},
          "execution_count": 29
        }
      ]
    },
    {
      "cell_type": "code",
      "source": [],
      "metadata": {
        "id": "sxA86E1deziv"
      },
      "execution_count": null,
      "outputs": []
    },
    {
      "cell_type": "code",
      "source": [
        "!pip install gensim"
      ],
      "metadata": {
        "colab": {
          "base_uri": "https://localhost:8080/"
        },
        "id": "u2xremo9QiAJ",
        "outputId": "3dbb4d2f-265a-4559-d5ff-2f0b28ad0406"
      },
      "execution_count": null,
      "outputs": [
        {
          "output_type": "stream",
          "name": "stdout",
          "text": [
            "Requirement already satisfied: gensim in /usr/local/lib/python3.10/dist-packages (4.3.3)\n",
            "Requirement already satisfied: numpy<2.0,>=1.18.5 in /usr/local/lib/python3.10/dist-packages (from gensim) (1.26.4)\n",
            "Requirement already satisfied: scipy<1.14.0,>=1.7.0 in /usr/local/lib/python3.10/dist-packages (from gensim) (1.13.1)\n",
            "Requirement already satisfied: smart-open>=1.8.1 in /usr/local/lib/python3.10/dist-packages (from gensim) (7.0.4)\n",
            "Requirement already satisfied: wrapt in /usr/local/lib/python3.10/dist-packages (from smart-open>=1.8.1->gensim) (1.16.0)\n"
          ]
        }
      ]
    },
    {
      "cell_type": "code",
      "source": [
        "from gensim.models import Word2Vec,KeyedVectors"
      ],
      "metadata": {
        "id": "2M9M5pydQh9U"
      },
      "execution_count": null,
      "outputs": []
    },
    {
      "cell_type": "code",
      "source": [
        "import gensim.downloader as api\n",
        "wv = api.load('word2vec-google-news-300')\n",
        "vec_king = wv['king']"
      ],
      "metadata": {
        "colab": {
          "base_uri": "https://localhost:8080/"
        },
        "id": "rLkIM84fQh6Z",
        "outputId": "4604fabe-3e3d-49fd-b507-f7015ad4a1f0"
      },
      "execution_count": null,
      "outputs": [
        {
          "output_type": "stream",
          "name": "stdout",
          "text": [
            "[==================================================] 100.0% 1662.8/1662.8MB downloaded\n"
          ]
        }
      ]
    },
    {
      "cell_type": "code",
      "source": [
        "vec_king"
      ],
      "metadata": {
        "colab": {
          "base_uri": "https://localhost:8080/"
        },
        "id": "xLF-vaB4S6pz",
        "outputId": "8a336c41-0cf3-41a3-86df-773023c1a76a"
      },
      "execution_count": null,
      "outputs": [
        {
          "output_type": "execute_result",
          "data": {
            "text/plain": [
              "array([ 1.25976562e-01,  2.97851562e-02,  8.60595703e-03,  1.39648438e-01,\n",
              "       -2.56347656e-02, -3.61328125e-02,  1.11816406e-01, -1.98242188e-01,\n",
              "        5.12695312e-02,  3.63281250e-01, -2.42187500e-01, -3.02734375e-01,\n",
              "       -1.77734375e-01, -2.49023438e-02, -1.67968750e-01, -1.69921875e-01,\n",
              "        3.46679688e-02,  5.21850586e-03,  4.63867188e-02,  1.28906250e-01,\n",
              "        1.36718750e-01,  1.12792969e-01,  5.95703125e-02,  1.36718750e-01,\n",
              "        1.01074219e-01, -1.76757812e-01, -2.51953125e-01,  5.98144531e-02,\n",
              "        3.41796875e-01, -3.11279297e-02,  1.04492188e-01,  6.17675781e-02,\n",
              "        1.24511719e-01,  4.00390625e-01, -3.22265625e-01,  8.39843750e-02,\n",
              "        3.90625000e-02,  5.85937500e-03,  7.03125000e-02,  1.72851562e-01,\n",
              "        1.38671875e-01, -2.31445312e-01,  2.83203125e-01,  1.42578125e-01,\n",
              "        3.41796875e-01, -2.39257812e-02, -1.09863281e-01,  3.32031250e-02,\n",
              "       -5.46875000e-02,  1.53198242e-02, -1.62109375e-01,  1.58203125e-01,\n",
              "       -2.59765625e-01,  2.01416016e-02, -1.63085938e-01,  1.35803223e-03,\n",
              "       -1.44531250e-01, -5.68847656e-02,  4.29687500e-02, -2.46582031e-02,\n",
              "        1.85546875e-01,  4.47265625e-01,  9.58251953e-03,  1.31835938e-01,\n",
              "        9.86328125e-02, -1.85546875e-01, -1.00097656e-01, -1.33789062e-01,\n",
              "       -1.25000000e-01,  2.83203125e-01,  1.23046875e-01,  5.32226562e-02,\n",
              "       -1.77734375e-01,  8.59375000e-02, -2.18505859e-02,  2.05078125e-02,\n",
              "       -1.39648438e-01,  2.51464844e-02,  1.38671875e-01, -1.05468750e-01,\n",
              "        1.38671875e-01,  8.88671875e-02, -7.51953125e-02, -2.13623047e-02,\n",
              "        1.72851562e-01,  4.63867188e-02, -2.65625000e-01,  8.91113281e-03,\n",
              "        1.49414062e-01,  3.78417969e-02,  2.38281250e-01, -1.24511719e-01,\n",
              "       -2.17773438e-01, -1.81640625e-01,  2.97851562e-02,  5.71289062e-02,\n",
              "       -2.89306641e-02,  1.24511719e-02,  9.66796875e-02, -2.31445312e-01,\n",
              "        5.81054688e-02,  6.68945312e-02,  7.08007812e-02, -3.08593750e-01,\n",
              "       -2.14843750e-01,  1.45507812e-01, -4.27734375e-01, -9.39941406e-03,\n",
              "        1.54296875e-01, -7.66601562e-02,  2.89062500e-01,  2.77343750e-01,\n",
              "       -4.86373901e-04, -1.36718750e-01,  3.24218750e-01, -2.46093750e-01,\n",
              "       -3.03649902e-03, -2.11914062e-01,  1.25000000e-01,  2.69531250e-01,\n",
              "        2.04101562e-01,  8.25195312e-02, -2.01171875e-01, -1.60156250e-01,\n",
              "       -3.78417969e-02, -1.20117188e-01,  1.15234375e-01, -4.10156250e-02,\n",
              "       -3.95507812e-02, -8.98437500e-02,  6.34765625e-03,  2.03125000e-01,\n",
              "        1.86523438e-01,  2.73437500e-01,  6.29882812e-02,  1.41601562e-01,\n",
              "       -9.81445312e-02,  1.38671875e-01,  1.82617188e-01,  1.73828125e-01,\n",
              "        1.73828125e-01, -2.37304688e-01,  1.78710938e-01,  6.34765625e-02,\n",
              "        2.36328125e-01, -2.08984375e-01,  8.74023438e-02, -1.66015625e-01,\n",
              "       -7.91015625e-02,  2.43164062e-01, -8.88671875e-02,  1.26953125e-01,\n",
              "       -2.16796875e-01, -1.73828125e-01, -3.59375000e-01, -8.25195312e-02,\n",
              "       -6.49414062e-02,  5.07812500e-02,  1.35742188e-01, -7.47070312e-02,\n",
              "       -1.64062500e-01,  1.15356445e-02,  4.45312500e-01, -2.15820312e-01,\n",
              "       -1.11328125e-01, -1.92382812e-01,  1.70898438e-01, -1.25000000e-01,\n",
              "        2.65502930e-03,  1.92382812e-01, -1.74804688e-01,  1.39648438e-01,\n",
              "        2.92968750e-01,  1.13281250e-01,  5.95703125e-02, -6.39648438e-02,\n",
              "        9.96093750e-02, -2.72216797e-02,  1.96533203e-02,  4.27246094e-02,\n",
              "       -2.46093750e-01,  6.39648438e-02, -2.25585938e-01, -1.68945312e-01,\n",
              "        2.89916992e-03,  8.20312500e-02,  3.41796875e-01,  4.32128906e-02,\n",
              "        1.32812500e-01,  1.42578125e-01,  7.61718750e-02,  5.98144531e-02,\n",
              "       -1.19140625e-01,  2.74658203e-03, -6.29882812e-02, -2.72216797e-02,\n",
              "       -4.82177734e-03, -8.20312500e-02, -2.49023438e-02, -4.00390625e-01,\n",
              "       -1.06933594e-01,  4.24804688e-02,  7.76367188e-02, -1.16699219e-01,\n",
              "        7.37304688e-02, -9.22851562e-02,  1.07910156e-01,  1.58203125e-01,\n",
              "        4.24804688e-02,  1.26953125e-01,  3.61328125e-02,  2.67578125e-01,\n",
              "       -1.01074219e-01, -3.02734375e-01, -5.76171875e-02,  5.05371094e-02,\n",
              "        5.26428223e-04, -2.07031250e-01, -1.38671875e-01, -8.97216797e-03,\n",
              "       -2.78320312e-02, -1.41601562e-01,  2.07031250e-01, -1.58203125e-01,\n",
              "        1.27929688e-01,  1.49414062e-01, -2.24609375e-02, -8.44726562e-02,\n",
              "        1.22558594e-01,  2.15820312e-01, -2.13867188e-01, -3.12500000e-01,\n",
              "       -3.73046875e-01,  4.08935547e-03,  1.07421875e-01,  1.06933594e-01,\n",
              "        7.32421875e-02,  8.97216797e-03, -3.88183594e-02, -1.29882812e-01,\n",
              "        1.49414062e-01, -2.14843750e-01, -1.83868408e-03,  9.91210938e-02,\n",
              "        1.57226562e-01, -1.14257812e-01, -2.05078125e-01,  9.91210938e-02,\n",
              "        3.69140625e-01, -1.97265625e-01,  3.54003906e-02,  1.09375000e-01,\n",
              "        1.31835938e-01,  1.66992188e-01,  2.35351562e-01,  1.04980469e-01,\n",
              "       -4.96093750e-01, -1.64062500e-01, -1.56250000e-01, -5.22460938e-02,\n",
              "        1.03027344e-01,  2.43164062e-01, -1.88476562e-01,  5.07812500e-02,\n",
              "       -9.37500000e-02, -6.68945312e-02,  2.27050781e-02,  7.61718750e-02,\n",
              "        2.89062500e-01,  3.10546875e-01, -5.37109375e-02,  2.28515625e-01,\n",
              "        2.51464844e-02,  6.78710938e-02, -1.21093750e-01, -2.15820312e-01,\n",
              "       -2.73437500e-01, -3.07617188e-02, -3.37890625e-01,  1.53320312e-01,\n",
              "        2.33398438e-01, -2.08007812e-01,  3.73046875e-01,  8.20312500e-02,\n",
              "        2.51953125e-01, -7.61718750e-02, -4.66308594e-02, -2.23388672e-02,\n",
              "        2.99072266e-02, -5.93261719e-02, -4.66918945e-03, -2.44140625e-01,\n",
              "       -2.09960938e-01, -2.87109375e-01, -4.54101562e-02, -1.77734375e-01,\n",
              "       -2.79296875e-01, -8.59375000e-02,  9.13085938e-02,  2.51953125e-01],\n",
              "      dtype=float32)"
            ]
          },
          "metadata": {},
          "execution_count": 7
        }
      ]
    },
    {
      "cell_type": "code",
      "source": [
        "wv[\"man\"]"
      ],
      "metadata": {
        "colab": {
          "base_uri": "https://localhost:8080/"
        },
        "id": "ceBv2s0tS-C9",
        "outputId": "1a069a66-b41e-404b-912b-0bac7eb306e4"
      },
      "execution_count": null,
      "outputs": [
        {
          "output_type": "execute_result",
          "data": {
            "text/plain": [
              "array([ 0.32617188,  0.13085938,  0.03466797, -0.08300781,  0.08984375,\n",
              "       -0.04125977, -0.19824219,  0.00689697,  0.14355469,  0.0019455 ,\n",
              "        0.02880859, -0.25      , -0.08398438, -0.15136719, -0.10205078,\n",
              "        0.04077148, -0.09765625,  0.05932617,  0.02978516, -0.10058594,\n",
              "       -0.13085938,  0.001297  ,  0.02612305, -0.27148438,  0.06396484,\n",
              "       -0.19140625, -0.078125  ,  0.25976562,  0.375     , -0.04541016,\n",
              "        0.16210938,  0.13671875, -0.06396484, -0.02062988, -0.09667969,\n",
              "        0.25390625,  0.24804688, -0.12695312,  0.07177734,  0.3203125 ,\n",
              "        0.03149414, -0.03857422,  0.21191406, -0.00811768,  0.22265625,\n",
              "       -0.13476562, -0.07617188,  0.01049805, -0.05175781,  0.03808594,\n",
              "       -0.13378906,  0.125     ,  0.0559082 , -0.18261719,  0.08154297,\n",
              "       -0.08447266, -0.07763672, -0.04345703,  0.08105469, -0.01092529,\n",
              "        0.17480469,  0.30664062, -0.04321289, -0.01416016,  0.09082031,\n",
              "       -0.00927734, -0.03442383, -0.11523438,  0.12451172, -0.0246582 ,\n",
              "        0.08544922,  0.14355469, -0.27734375,  0.03662109, -0.11035156,\n",
              "        0.13085938, -0.01721191, -0.08056641, -0.00708008, -0.02954102,\n",
              "        0.30078125, -0.09033203,  0.03149414, -0.18652344, -0.11181641,\n",
              "        0.10253906, -0.25976562, -0.02209473,  0.16796875, -0.05322266,\n",
              "       -0.14550781, -0.01049805, -0.03039551, -0.03857422,  0.11523438,\n",
              "       -0.0062561 , -0.13964844,  0.08007812,  0.06103516, -0.15332031,\n",
              "       -0.11132812, -0.14160156,  0.19824219, -0.06933594,  0.29296875,\n",
              "       -0.16015625,  0.20898438,  0.00041771,  0.01831055, -0.20214844,\n",
              "        0.04760742,  0.05810547, -0.0123291 , -0.01989746, -0.00364685,\n",
              "       -0.0135498 , -0.08251953, -0.03149414,  0.00717163,  0.20117188,\n",
              "        0.08300781, -0.0480957 , -0.26367188, -0.09667969, -0.22558594,\n",
              "       -0.09667969,  0.06494141, -0.02502441,  0.08496094,  0.03198242,\n",
              "       -0.07568359, -0.25390625, -0.11669922, -0.01446533, -0.16015625,\n",
              "       -0.00701904, -0.05712891,  0.02807617, -0.09179688,  0.25195312,\n",
              "        0.24121094,  0.06640625,  0.12988281,  0.17089844, -0.13671875,\n",
              "        0.1875    , -0.10009766, -0.04199219, -0.12011719,  0.00524902,\n",
              "        0.15625   , -0.203125  , -0.07128906, -0.06103516,  0.01635742,\n",
              "        0.18261719,  0.03588867, -0.04248047,  0.16796875, -0.15039062,\n",
              "       -0.16992188,  0.01831055,  0.27734375, -0.01269531, -0.0390625 ,\n",
              "       -0.15429688,  0.18457031, -0.07910156,  0.09033203, -0.02709961,\n",
              "        0.08251953,  0.06738281, -0.16113281, -0.19628906, -0.15234375,\n",
              "       -0.04711914,  0.04760742,  0.05908203, -0.16894531, -0.14941406,\n",
              "        0.12988281,  0.04321289,  0.02624512, -0.1796875 , -0.19628906,\n",
              "        0.06445312,  0.08935547,  0.1640625 , -0.03808594, -0.09814453,\n",
              "       -0.01483154,  0.1875    ,  0.12792969,  0.22753906,  0.01818848,\n",
              "       -0.07958984, -0.11376953, -0.06933594, -0.15527344, -0.08105469,\n",
              "       -0.09277344, -0.11328125, -0.15136719, -0.08007812, -0.05126953,\n",
              "       -0.15332031,  0.11669922,  0.06835938,  0.0324707 , -0.33984375,\n",
              "       -0.08154297, -0.08349609,  0.04003906,  0.04907227, -0.24121094,\n",
              "       -0.13476562, -0.05932617,  0.12158203, -0.34179688,  0.16503906,\n",
              "        0.06176758, -0.18164062,  0.20117188, -0.07714844,  0.1640625 ,\n",
              "        0.00402832,  0.30273438, -0.10009766, -0.13671875, -0.05957031,\n",
              "        0.0625    , -0.21289062, -0.06542969,  0.1796875 , -0.07763672,\n",
              "       -0.01928711, -0.15039062, -0.00106049,  0.03417969,  0.03344727,\n",
              "        0.19335938,  0.01965332, -0.19921875, -0.10644531,  0.01525879,\n",
              "        0.00927734,  0.01416016, -0.02392578,  0.05883789,  0.02368164,\n",
              "        0.125     ,  0.04760742, -0.05566406,  0.11572266,  0.14746094,\n",
              "        0.1015625 , -0.07128906, -0.07714844, -0.12597656,  0.0291748 ,\n",
              "        0.09521484, -0.12402344, -0.109375  , -0.12890625,  0.16308594,\n",
              "        0.28320312, -0.03149414,  0.12304688, -0.23242188, -0.09375   ,\n",
              "       -0.12988281,  0.0135498 , -0.03881836, -0.08251953,  0.00897217,\n",
              "        0.16308594,  0.10546875, -0.13867188, -0.16503906, -0.03857422,\n",
              "        0.10839844, -0.10498047,  0.06396484,  0.38867188, -0.05981445,\n",
              "       -0.0612793 , -0.10449219, -0.16796875,  0.07177734,  0.13964844,\n",
              "        0.15527344, -0.03125   , -0.20214844, -0.12988281, -0.10058594,\n",
              "       -0.06396484, -0.08349609, -0.30273438, -0.08007812,  0.02099609],\n",
              "      dtype=float32)"
            ]
          },
          "metadata": {},
          "execution_count": 8
        }
      ]
    },
    {
      "cell_type": "code",
      "source": [
        "wv.most_similar(\"king\")"
      ],
      "metadata": {
        "colab": {
          "base_uri": "https://localhost:8080/"
        },
        "id": "myLJqRR0TBVF",
        "outputId": "a277384c-b0a3-47e2-866b-fc269d672008"
      },
      "execution_count": null,
      "outputs": [
        {
          "output_type": "execute_result",
          "data": {
            "text/plain": [
              "[('kings', 0.7138045430183411),\n",
              " ('queen', 0.6510956883430481),\n",
              " ('monarch', 0.6413194537162781),\n",
              " ('crown_prince', 0.6204220056533813),\n",
              " ('prince', 0.6159993410110474),\n",
              " ('sultan', 0.5864824056625366),\n",
              " ('ruler', 0.5797567367553711),\n",
              " ('princes', 0.5646552443504333),\n",
              " ('Prince_Paras', 0.5432944297790527),\n",
              " ('throne', 0.5422105193138123)]"
            ]
          },
          "metadata": {},
          "execution_count": 9
        }
      ]
    },
    {
      "cell_type": "code",
      "source": [
        "wv.most_similar(\"man\")"
      ],
      "metadata": {
        "colab": {
          "base_uri": "https://localhost:8080/"
        },
        "id": "g0kfMeO7THQf",
        "outputId": "40509fb5-c0f0-4696-90b9-73aec0f44301"
      },
      "execution_count": null,
      "outputs": [
        {
          "output_type": "execute_result",
          "data": {
            "text/plain": [
              "[('woman', 0.7664012908935547),\n",
              " ('boy', 0.6824871301651001),\n",
              " ('teenager', 0.6586930155754089),\n",
              " ('teenage_girl', 0.6147903203964233),\n",
              " ('girl', 0.5921714305877686),\n",
              " ('suspected_purse_snatcher', 0.571636438369751),\n",
              " ('robber', 0.5585119128227234),\n",
              " ('Robbery_suspect', 0.5584409832954407),\n",
              " ('teen_ager', 0.5549196600914001),\n",
              " ('men', 0.5489763021469116)]"
            ]
          },
          "metadata": {},
          "execution_count": 10
        }
      ]
    },
    {
      "cell_type": "code",
      "source": [
        "wv.similarity(w1=\"man\", w2=\"woman\")\n",
        "wv.similarity(w1=\"man\", w2=\"king\")\n",
        "wv.similarity(w1=\"queen\", w2=\"king\")"
      ],
      "metadata": {
        "colab": {
          "base_uri": "https://localhost:8080/"
        },
        "id": "2wq-gVxFTM8s",
        "outputId": "559f9d6b-58aa-4b78-bef2-e9e8150919d4"
      },
      "execution_count": null,
      "outputs": [
        {
          "output_type": "execute_result",
          "data": {
            "text/plain": [
              "0.6510957"
            ]
          },
          "metadata": {},
          "execution_count": 11
        }
      ]
    },
    {
      "cell_type": "code",
      "source": [],
      "metadata": {
        "id": "D_NJuI3aTTSO"
      },
      "execution_count": null,
      "outputs": []
    },
    {
      "cell_type": "code",
      "source": [],
      "metadata": {
        "id": "Uxev2WdPCv3-"
      },
      "execution_count": null,
      "outputs": []
    }
  ]
}